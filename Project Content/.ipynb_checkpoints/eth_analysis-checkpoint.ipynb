{
 "cells": [
  {
   "cell_type": "markdown",
   "metadata": {},
   "source": [
    "# Ethereum Analysis"
   ]
  },
  {
   "cell_type": "code",
   "execution_count": 2,
   "metadata": {},
   "outputs": [
    {
     "data": {
      "text/plain": [
       "True"
      ]
     },
     "execution_count": 2,
     "metadata": {},
     "output_type": "execute_result"
    }
   ],
   "source": [
    "# imports\n",
    "import panel as pn\n",
    "pn.extension('plotly')\n",
    "import plotly.express as px\n",
    "from chart_studio.plotly import plot, iplot\n",
    "from plotly.subplots import make_subplots\n",
    "import plotly.graph_objects as go\n",
    "\n",
    "import hvplot.pandas\n",
    "import matplotlib.pyplot as plt\n",
    "import os\n",
    "from pathlib import Path\n",
    "from panel.interact import interact\n",
    "from panel import widgets\n",
    "import os\n",
    "import requests\n",
    "import pandas as pd\n",
    "import json\n",
    "from dotenv import load_dotenv\n",
    "import alpaca_trade_api as tradeapi\n",
    "from MCForecastTools import MCSimulation\n",
    "from poloniex import Poloniex\n",
    "import time\n",
    "from datetime import datetime, timezone\n",
    "import numpy as np\n",
    "from pathlib import Path\n",
    "import seaborn as sns\n",
    "import warnings \n",
    "from sklearn.linear_model import LinearRegression\n",
    "\n",
    "warnings.filterwarnings(\"ignore\")\n",
    "%matplotlib inline\n",
    "pd.options.display.float_format = '{:.2f}'.format\n",
    "load_dotenv()"
   ]
  },
  {
   "cell_type": "markdown",
   "metadata": {},
   "source": [
    "# Import Data\n",
    "## Ethereum"
   ]
  },
  {
   "cell_type": "code",
   "execution_count": 7,
   "metadata": {},
   "outputs": [
    {
     "data": {
      "text/html": [
       "<div>\n",
       "<style scoped>\n",
       "    .dataframe tbody tr th:only-of-type {\n",
       "        vertical-align: middle;\n",
       "    }\n",
       "\n",
       "    .dataframe tbody tr th {\n",
       "        vertical-align: top;\n",
       "    }\n",
       "\n",
       "    .dataframe thead th {\n",
       "        text-align: right;\n",
       "    }\n",
       "</style>\n",
       "<table border=\"1\" class=\"dataframe\">\n",
       "  <thead>\n",
       "    <tr style=\"text-align: right;\">\n",
       "      <th></th>\n",
       "      <th>date</th>\n",
       "      <th>AdrActCnt</th>\n",
       "      <th>PriceUSD</th>\n",
       "    </tr>\n",
       "  </thead>\n",
       "  <tbody>\n",
       "    <tr>\n",
       "      <th>0</th>\n",
       "      <td>2015-08-08</td>\n",
       "      <td>1208.00</td>\n",
       "      <td>1.20</td>\n",
       "    </tr>\n",
       "    <tr>\n",
       "      <th>1</th>\n",
       "      <td>2015-08-09</td>\n",
       "      <td>1113.00</td>\n",
       "      <td>1.20</td>\n",
       "    </tr>\n",
       "    <tr>\n",
       "      <th>2</th>\n",
       "      <td>2015-08-10</td>\n",
       "      <td>1430.00</td>\n",
       "      <td>1.20</td>\n",
       "    </tr>\n",
       "    <tr>\n",
       "      <th>3</th>\n",
       "      <td>2015-08-11</td>\n",
       "      <td>2697.00</td>\n",
       "      <td>0.99</td>\n",
       "    </tr>\n",
       "    <tr>\n",
       "      <th>4</th>\n",
       "      <td>2015-08-12</td>\n",
       "      <td>1219.00</td>\n",
       "      <td>1.29</td>\n",
       "    </tr>\n",
       "  </tbody>\n",
       "</table>\n",
       "</div>"
      ],
      "text/plain": [
       "        date  AdrActCnt  PriceUSD\n",
       "0 2015-08-08    1208.00      1.20\n",
       "1 2015-08-09    1113.00      1.20\n",
       "2 2015-08-10    1430.00      1.20\n",
       "3 2015-08-11    2697.00      0.99\n",
       "4 2015-08-12    1219.00      1.29"
      ]
     },
     "execution_count": 7,
     "metadata": {},
     "output_type": "execute_result"
    }
   ],
   "source": [
    "eth = pd.read_csv(\"eth.csv\",index_col = \"date\", infer_datetime_format=True, parse_dates=True)\n",
    "eth_cleaning = eth[['AdrActCnt','PriceUSD']].dropna().reset_index()\n",
    "eth_cleaning.head(5)"
   ]
  },
  {
   "cell_type": "code",
   "execution_count": 10,
   "metadata": {},
   "outputs": [
    {
     "data": {
      "text/html": [
       "<div>\n",
       "<style scoped>\n",
       "    .dataframe tbody tr th:only-of-type {\n",
       "        vertical-align: middle;\n",
       "    }\n",
       "\n",
       "    .dataframe tbody tr th {\n",
       "        vertical-align: top;\n",
       "    }\n",
       "\n",
       "    .dataframe thead th {\n",
       "        text-align: right;\n",
       "    }\n",
       "</style>\n",
       "<table border=\"1\" class=\"dataframe\">\n",
       "  <thead>\n",
       "    <tr style=\"text-align: right;\">\n",
       "      <th></th>\n",
       "      <th>year</th>\n",
       "      <th>month</th>\n",
       "      <th>day</th>\n",
       "      <th>date</th>\n",
       "      <th>AdrActCnt</th>\n",
       "      <th>PriceUSD</th>\n",
       "    </tr>\n",
       "  </thead>\n",
       "  <tbody>\n",
       "    <tr>\n",
       "      <th>0</th>\n",
       "      <td>2015</td>\n",
       "      <td>8</td>\n",
       "      <td>8</td>\n",
       "      <td>2015-08-08</td>\n",
       "      <td>1208.00</td>\n",
       "      <td>1.20</td>\n",
       "    </tr>\n",
       "    <tr>\n",
       "      <th>1</th>\n",
       "      <td>2015</td>\n",
       "      <td>8</td>\n",
       "      <td>9</td>\n",
       "      <td>2015-08-09</td>\n",
       "      <td>1113.00</td>\n",
       "      <td>1.20</td>\n",
       "    </tr>\n",
       "    <tr>\n",
       "      <th>2</th>\n",
       "      <td>2015</td>\n",
       "      <td>8</td>\n",
       "      <td>10</td>\n",
       "      <td>2015-08-10</td>\n",
       "      <td>1430.00</td>\n",
       "      <td>1.20</td>\n",
       "    </tr>\n",
       "    <tr>\n",
       "      <th>3</th>\n",
       "      <td>2015</td>\n",
       "      <td>8</td>\n",
       "      <td>11</td>\n",
       "      <td>2015-08-11</td>\n",
       "      <td>2697.00</td>\n",
       "      <td>0.99</td>\n",
       "    </tr>\n",
       "    <tr>\n",
       "      <th>4</th>\n",
       "      <td>2015</td>\n",
       "      <td>8</td>\n",
       "      <td>12</td>\n",
       "      <td>2015-08-12</td>\n",
       "      <td>1219.00</td>\n",
       "      <td>1.29</td>\n",
       "    </tr>\n",
       "  </tbody>\n",
       "</table>\n",
       "</div>"
      ],
      "text/plain": [
       "   year  month  day       date  AdrActCnt  PriceUSD\n",
       "0  2015      8    8 2015-08-08    1208.00      1.20\n",
       "1  2015      8    9 2015-08-09    1113.00      1.20\n",
       "2  2015      8   10 2015-08-10    1430.00      1.20\n",
       "3  2015      8   11 2015-08-11    2697.00      0.99\n",
       "4  2015      8   12 2015-08-12    1219.00      1.29"
      ]
     },
     "execution_count": 10,
     "metadata": {},
     "output_type": "execute_result"
    }
   ],
   "source": [
    "year = eth_cleaning['date'].dt.year\n",
    "month = eth_cleaning['date'].dt.month\n",
    "day = eth_cleaning['date'].dt.day\n",
    "date = {\"year\":year,\"month\":month,\"day\":day}\n",
    "\n",
    "date_date = pd.DataFrame(date)\n",
    "eth_file = pd.concat([date_date,eth_cleaning],axis=\"columns\",join=\"outer\")\n",
    "eth_new_new = eth_file#the original naming will not be changed\n",
    "eth_test = eth_new_new.drop(['date'],axis=1)#new name for the other operations\n",
    "eth_new = eth_new_new.drop(['day','date'],axis=1)#new name for the other operations\n",
    "eth_new_new.head(5)"
   ]
  },
  {
   "cell_type": "code",
   "execution_count": 12,
   "metadata": {},
   "outputs": [
    {
     "data": {
      "text/html": [
       "<div>\n",
       "<style scoped>\n",
       "    .dataframe tbody tr th:only-of-type {\n",
       "        vertical-align: middle;\n",
       "    }\n",
       "\n",
       "    .dataframe tbody tr th {\n",
       "        vertical-align: top;\n",
       "    }\n",
       "\n",
       "    .dataframe thead th {\n",
       "        text-align: right;\n",
       "    }\n",
       "</style>\n",
       "<table border=\"1\" class=\"dataframe\">\n",
       "  <thead>\n",
       "    <tr style=\"text-align: right;\">\n",
       "      <th></th>\n",
       "      <th></th>\n",
       "      <th>AdrActCnt</th>\n",
       "      <th>PriceUSD</th>\n",
       "    </tr>\n",
       "    <tr>\n",
       "      <th>year</th>\n",
       "      <th>month</th>\n",
       "      <th></th>\n",
       "      <th></th>\n",
       "    </tr>\n",
       "  </thead>\n",
       "  <tbody>\n",
       "    <tr>\n",
       "      <th rowspan=\"5\" valign=\"top\">2016</th>\n",
       "      <th>1</th>\n",
       "      <td>3255.90</td>\n",
       "      <td>1.50</td>\n",
       "    </tr>\n",
       "    <tr>\n",
       "      <th>2</th>\n",
       "      <td>5695.10</td>\n",
       "      <td>4.50</td>\n",
       "    </tr>\n",
       "    <tr>\n",
       "      <th>3</th>\n",
       "      <td>10175.84</td>\n",
       "      <td>11.10</td>\n",
       "    </tr>\n",
       "    <tr>\n",
       "      <th>4</th>\n",
       "      <td>12798.20</td>\n",
       "      <td>8.96</td>\n",
       "    </tr>\n",
       "    <tr>\n",
       "      <th>5</th>\n",
       "      <td>17880.13</td>\n",
       "      <td>11.34</td>\n",
       "    </tr>\n",
       "  </tbody>\n",
       "</table>\n",
       "</div>"
      ],
      "text/plain": [
       "            AdrActCnt  PriceUSD\n",
       "year month                     \n",
       "2016 1        3255.90      1.50\n",
       "     2        5695.10      4.50\n",
       "     3       10175.84     11.10\n",
       "     4       12798.20      8.96\n",
       "     5       17880.13     11.34"
      ]
     },
     "execution_count": 12,
     "metadata": {},
     "output_type": "execute_result"
    }
   ],
   "source": [
    "avg_month = eth_new.loc[eth_new['year'] > 2015,:].groupby([\"year\",\"month\"]).mean()\n",
    "avg_month.head(5)"
   ]
  },
  {
   "cell_type": "code",
   "execution_count": 14,
   "metadata": {},
   "outputs": [
    {
     "data": {
      "text/html": [
       "<div>\n",
       "<style scoped>\n",
       "    .dataframe tbody tr th:only-of-type {\n",
       "        vertical-align: middle;\n",
       "    }\n",
       "\n",
       "    .dataframe tbody tr th {\n",
       "        vertical-align: top;\n",
       "    }\n",
       "\n",
       "    .dataframe thead th {\n",
       "        text-align: right;\n",
       "    }\n",
       "</style>\n",
       "<table border=\"1\" class=\"dataframe\">\n",
       "  <thead>\n",
       "    <tr style=\"text-align: right;\">\n",
       "      <th></th>\n",
       "      <th>AdrActCnt</th>\n",
       "      <th>PriceUSD</th>\n",
       "    </tr>\n",
       "    <tr>\n",
       "      <th>yearmonth</th>\n",
       "      <th></th>\n",
       "      <th></th>\n",
       "    </tr>\n",
       "  </thead>\n",
       "  <tbody>\n",
       "    <tr>\n",
       "      <th>2019-01</th>\n",
       "      <td>259837.61</td>\n",
       "      <td>126.80</td>\n",
       "    </tr>\n",
       "    <tr>\n",
       "      <th>2019-02</th>\n",
       "      <td>215373.04</td>\n",
       "      <td>125.57</td>\n",
       "    </tr>\n",
       "    <tr>\n",
       "      <th>2019-03</th>\n",
       "      <td>267465.26</td>\n",
       "      <td>135.52</td>\n",
       "    </tr>\n",
       "    <tr>\n",
       "      <th>2019-04</th>\n",
       "      <td>303846.47</td>\n",
       "      <td>164.85</td>\n",
       "    </tr>\n",
       "    <tr>\n",
       "      <th>2019-05</th>\n",
       "      <td>323094.58</td>\n",
       "      <td>219.83</td>\n",
       "    </tr>\n",
       "  </tbody>\n",
       "</table>\n",
       "</div>"
      ],
      "text/plain": [
       "           AdrActCnt  PriceUSD\n",
       "yearmonth                     \n",
       "2019-01    259837.61    126.80\n",
       "2019-02    215373.04    125.57\n",
       "2019-03    267465.26    135.52\n",
       "2019-04    303846.47    164.85\n",
       "2019-05    323094.58    219.83"
      ]
     },
     "execution_count": 14,
     "metadata": {},
     "output_type": "execute_result"
    }
   ],
   "source": [
    "eth_new_new[\"yearmonth\"] = eth_new_new[\"date\"].dt.strftime(\"%Y-%m\")\n",
    "\n",
    "before_and_after = (eth_new_new\n",
    "                    .reset_index()\n",
    "                    .drop(\"day\",axis=1)\n",
    "                    .loc[eth_new_new['year'] > 2018,:]\n",
    "                    .groupby([\"year\",\"month\"])\n",
    "                    .agg({\"AdrActCnt\":\"mean\",\n",
    "                         \"PriceUSD\":\"mean\",\n",
    "                         \"yearmonth\":\"first\"})\n",
    "                    .reset_index()\n",
    "                    .drop([\"year\",\"month\"],axis=1)\n",
    "                    .set_index(\"yearmonth\")\n",
    "                    )\n",
    "\n",
    "\n",
    "#before_and_after = pd.concat([date_con,before_and_after],join=\"outer\",axis=\"columns\").drop([\"year\",\"month\"],axis=1).set_index\n",
    "before_and_after.head()"
   ]
  },
  {
   "cell_type": "code",
   "execution_count": 21,
   "metadata": {},
   "outputs": [
    {
     "data": {
      "application/vnd.holoviews_exec.v0+json": "",
      "text/html": [
       "<div id='2563'>\n",
       "\n",
       "\n",
       "\n",
       "\n",
       "\n",
       "  <div class=\"bk-root\" id=\"2c3d1ef1-d9e2-47b1-a4c1-54b1549b54d6\" data-root-id=\"2563\"></div>\n",
       "</div>\n",
       "<script type=\"application/javascript\">(function(root) {\n",
       "  function embed_document(root) {\n",
       "  var docs_json = {\"ace7ef5f-8ee5-4aba-97c8-158012aacd20\":{\"roots\":{\"references\":[{\"attributes\":{\"callback\":null,\"renderers\":[{\"id\":\"2604\"}],\"tags\":[\"hv_created\"],\"tooltips\":[[\"yearmonth\",\"@{yearmonth}\"],[\"Variable\",\"@{Variable}\"],[\"value\",\"@{value}\"]]},\"id\":\"2567\",\"type\":\"HoverTool\"},{\"attributes\":{\"axis\":{\"id\":\"2577\"},\"grid_line_color\":null,\"ticker\":null},\"id\":\"2579\",\"type\":\"Grid\"},{\"attributes\":{\"data_source\":{\"id\":\"2598\"},\"glyph\":{\"id\":\"2601\"},\"hover_glyph\":null,\"muted_glyph\":{\"id\":\"2603\"},\"nonselection_glyph\":{\"id\":\"2602\"},\"selection_glyph\":null,\"view\":{\"id\":\"2605\"}},\"id\":\"2604\",\"type\":\"GlyphRenderer\"},{\"attributes\":{\"axis\":{\"id\":\"2580\"},\"dimension\":1,\"grid_line_color\":null,\"ticker\":null},\"id\":\"2583\",\"type\":\"Grid\"},{\"attributes\":{\"factors\":[[\"2019-08\",\"AdrActCnt\"],[\"2019-08\",\"PriceUSD\"],[\"2019-09\",\"AdrActCnt\"],[\"2019-09\",\"PriceUSD\"],[\"2019-10\",\"AdrActCnt\"],[\"2019-10\",\"PriceUSD\"],[\"2019-11\",\"AdrActCnt\"],[\"2019-11\",\"PriceUSD\"],[\"2019-12\",\"AdrActCnt\"],[\"2019-12\",\"PriceUSD\"],[\"2020-01\",\"AdrActCnt\"],[\"2020-01\",\"PriceUSD\"],[\"2020-02\",\"AdrActCnt\"],[\"2020-02\",\"PriceUSD\"],[\"2020-03\",\"AdrActCnt\"],[\"2020-03\",\"PriceUSD\"],[\"2020-04\",\"AdrActCnt\"],[\"2020-04\",\"PriceUSD\"],[\"2020-05\",\"AdrActCnt\"],[\"2020-05\",\"PriceUSD\"],[\"2020-06\",\"AdrActCnt\"],[\"2020-06\",\"PriceUSD\"],[\"2020-07\",\"AdrActCnt\"],[\"2020-07\",\"PriceUSD\"],[\"2020-08\",\"AdrActCnt\"],[\"2020-08\",\"PriceUSD\"],[\"2020-09\",\"AdrActCnt\"],[\"2020-09\",\"PriceUSD\"],[\"2020-10\",\"AdrActCnt\"],[\"2020-10\",\"PriceUSD\"],[\"2020-11\",\"AdrActCnt\"],[\"2020-11\",\"PriceUSD\"]],\"tags\":[[[\"yearmonth\",\"yearmonth\",null],[\"Variable\",\"Variable\",null]]]},\"id\":\"2565\",\"type\":\"FactorRange\"},{\"attributes\":{\"align\":null,\"below\":[{\"id\":\"2577\"}],\"center\":[{\"id\":\"2579\"},{\"id\":\"2583\"}],\"left\":[{\"id\":\"2580\"}],\"margin\":null,\"min_border_bottom\":10,\"min_border_left\":10,\"min_border_right\":10,\"min_border_top\":10,\"plot_width\":1250,\"renderers\":[{\"id\":\"2604\"}],\"sizing_mode\":\"fixed\",\"title\":{\"id\":\"2569\"},\"toolbar\":{\"id\":\"2590\"},\"x_range\":{\"id\":\"2565\"},\"x_scale\":{\"id\":\"2573\"},\"y_range\":{\"id\":\"2566\"},\"y_scale\":{\"id\":\"2575\"}},\"id\":\"2568\",\"subtype\":\"Figure\",\"type\":\"Plot\"},{\"attributes\":{},\"id\":\"2581\",\"type\":\"BasicTicker\"},{\"attributes\":{\"axis_label\":\"Price/Address Action Count\",\"bounds\":\"auto\",\"formatter\":{\"id\":\"2608\"},\"major_label_orientation\":\"horizontal\",\"ticker\":{\"id\":\"2581\"}},\"id\":\"2580\",\"type\":\"LinearAxis\"},{\"attributes\":{\"fill_alpha\":{\"value\":0.1},\"fill_color\":{\"field\":\"Variable\",\"transform\":{\"id\":\"2597\"}},\"line_alpha\":{\"value\":0.1},\"top\":{\"field\":\"value\"},\"width\":{\"value\":0.8},\"x\":{\"field\":\"xoffsets\"}},\"id\":\"2602\",\"type\":\"VBar\"},{\"attributes\":{\"text\":\"Bar Diagram of the Ethereum Price and Address Action Count\",\"text_color\":{\"value\":\"black\"},\"text_font_size\":{\"value\":\"12pt\"}},\"id\":\"2569\",\"type\":\"Title\"},{\"attributes\":{\"bottom_units\":\"screen\",\"fill_alpha\":0.5,\"fill_color\":\"lightgrey\",\"left_units\":\"screen\",\"level\":\"overlay\",\"line_alpha\":1.0,\"line_color\":\"black\",\"line_dash\":[4,4],\"line_width\":2,\"right_units\":\"screen\",\"top_units\":\"screen\"},\"id\":\"2589\",\"type\":\"BoxAnnotation\"},{\"attributes\":{\"active_drag\":\"auto\",\"active_inspect\":\"auto\",\"active_multi\":null,\"active_scroll\":\"auto\",\"active_tap\":\"auto\",\"tools\":[{\"id\":\"2567\"},{\"id\":\"2584\"},{\"id\":\"2585\"},{\"id\":\"2586\"},{\"id\":\"2587\"},{\"id\":\"2588\"}]},\"id\":\"2590\",\"type\":\"Toolbar\"},{\"attributes\":{\"fill_color\":{\"field\":\"Variable\",\"transform\":{\"id\":\"2597\"}},\"top\":{\"field\":\"value\"},\"width\":{\"value\":0.8},\"x\":{\"field\":\"xoffsets\"}},\"id\":\"2601\",\"type\":\"VBar\"},{\"attributes\":{\"end\":590535.0252843157,\"reset_end\":590535.0252843157,\"reset_start\":0.0,\"tags\":[[[\"value\",\"value\",null]]]},\"id\":\"2566\",\"type\":\"Range1d\"},{\"attributes\":{},\"id\":\"2608\",\"type\":\"BasicTickFormatter\"},{\"attributes\":{\"source\":{\"id\":\"2598\"}},\"id\":\"2605\",\"type\":\"CDSView\"},{\"attributes\":{},\"id\":\"2584\",\"type\":\"SaveTool\"},{\"attributes\":{\"fill_alpha\":{\"value\":0.2},\"fill_color\":{\"field\":\"Variable\",\"transform\":{\"id\":\"2597\"}},\"line_alpha\":{\"value\":0.2},\"top\":{\"field\":\"value\"},\"width\":{\"value\":0.8},\"x\":{\"field\":\"xoffsets\"}},\"id\":\"2603\",\"type\":\"VBar\"},{\"attributes\":{},\"id\":\"2606\",\"type\":\"CategoricalTickFormatter\"},{\"attributes\":{},\"id\":\"2585\",\"type\":\"PanTool\"},{\"attributes\":{\"axis_label\":\"Year/MOnth\",\"bounds\":\"auto\",\"formatter\":{\"id\":\"2606\"},\"major_label_orientation\":1.5707963267948966,\"ticker\":{\"id\":\"2578\"}},\"id\":\"2577\",\"type\":\"CategoricalAxis\"},{\"attributes\":{},\"id\":\"2586\",\"type\":\"WheelZoomTool\"},{\"attributes\":{\"children\":[{\"id\":\"2564\"},{\"id\":\"2568\"},{\"id\":\"2626\"}],\"margin\":[0,0,0,0],\"name\":\"Row03781\",\"tags\":[\"embedded\"]},\"id\":\"2563\",\"type\":\"Row\"},{\"attributes\":{\"data\":{\"Variable\":[\"AdrActCnt\",\"AdrActCnt\",\"AdrActCnt\",\"AdrActCnt\",\"AdrActCnt\",\"AdrActCnt\",\"AdrActCnt\",\"AdrActCnt\",\"AdrActCnt\",\"AdrActCnt\",\"AdrActCnt\",\"AdrActCnt\",\"AdrActCnt\",\"AdrActCnt\",\"AdrActCnt\",\"AdrActCnt\",\"PriceUSD\",\"PriceUSD\",\"PriceUSD\",\"PriceUSD\",\"PriceUSD\",\"PriceUSD\",\"PriceUSD\",\"PriceUSD\",\"PriceUSD\",\"PriceUSD\",\"PriceUSD\",\"PriceUSD\",\"PriceUSD\",\"PriceUSD\",\"PriceUSD\",\"PriceUSD\"],\"value\":{\"__ndarray__\":\"nXPOOcOsEkG8u7u712oRQRFCCCFUxBFBzczMzIzHEEFba621DhARQQAAAACYww9BsdzTCNNpE0EyxhhjDJEXQWZmZmYMFxdB55xzzjEHGEGamZmZCRocQWOMMcZQXx9BOuecc8aiH0GamZmZnRAbQVtrrbU6/B5BAAAAAD1iIEG40XA8Bu9oQIcgvAo3OGdAq2/UHERTZkDbhhY29ZxlQJecd7XoJ2FAqVqO63KOY0De4CHKH+ZtQLpgenV5DWRAd5+nt5B0ZUAlmXBCbvZpQFIw/k8ke21AtMwoACI6cEBWwUT4mR15QNBJ/Kb7/nZAT1DB/MCBd0C4uyRkFId4QA==\",\"dtype\":\"float64\",\"order\":\"little\",\"shape\":[32]},\"xoffsets\":[[\"2019-08\",\"AdrActCnt\"],[\"2019-09\",\"AdrActCnt\"],[\"2019-10\",\"AdrActCnt\"],[\"2019-11\",\"AdrActCnt\"],[\"2019-12\",\"AdrActCnt\"],[\"2020-01\",\"AdrActCnt\"],[\"2020-02\",\"AdrActCnt\"],[\"2020-03\",\"AdrActCnt\"],[\"2020-04\",\"AdrActCnt\"],[\"2020-05\",\"AdrActCnt\"],[\"2020-06\",\"AdrActCnt\"],[\"2020-07\",\"AdrActCnt\"],[\"2020-08\",\"AdrActCnt\"],[\"2020-09\",\"AdrActCnt\"],[\"2020-10\",\"AdrActCnt\"],[\"2020-11\",\"AdrActCnt\"],[\"2019-08\",\"PriceUSD\"],[\"2019-09\",\"PriceUSD\"],[\"2019-10\",\"PriceUSD\"],[\"2019-11\",\"PriceUSD\"],[\"2019-12\",\"PriceUSD\"],[\"2020-01\",\"PriceUSD\"],[\"2020-02\",\"PriceUSD\"],[\"2020-03\",\"PriceUSD\"],[\"2020-04\",\"PriceUSD\"],[\"2020-05\",\"PriceUSD\"],[\"2020-06\",\"PriceUSD\"],[\"2020-07\",\"PriceUSD\"],[\"2020-08\",\"PriceUSD\"],[\"2020-09\",\"PriceUSD\"],[\"2020-10\",\"PriceUSD\"],[\"2020-11\",\"PriceUSD\"]],\"yearmonth\":[\"2019-08\",\"2019-09\",\"2019-10\",\"2019-11\",\"2019-12\",\"2020-01\",\"2020-02\",\"2020-03\",\"2020-04\",\"2020-05\",\"2020-06\",\"2020-07\",\"2020-08\",\"2020-09\",\"2020-10\",\"2020-11\",\"2019-08\",\"2019-09\",\"2019-10\",\"2019-11\",\"2019-12\",\"2020-01\",\"2020-02\",\"2020-03\",\"2020-04\",\"2020-05\",\"2020-06\",\"2020-07\",\"2020-08\",\"2020-09\",\"2020-10\",\"2020-11\"]},\"selected\":{\"id\":\"2599\"},\"selection_policy\":{\"id\":\"2616\"}},\"id\":\"2598\",\"type\":\"ColumnDataSource\"},{\"attributes\":{\"overlay\":{\"id\":\"2589\"}},\"id\":\"2587\",\"type\":\"BoxZoomTool\"},{\"attributes\":{},\"id\":\"2616\",\"type\":\"UnionRenderers\"},{\"attributes\":{},\"id\":\"2573\",\"type\":\"CategoricalScale\"},{\"attributes\":{\"margin\":[5,5,5,5],\"name\":\"HSpacer03785\",\"sizing_mode\":\"stretch_width\"},\"id\":\"2564\",\"type\":\"Spacer\"},{\"attributes\":{\"margin\":[5,5,5,5],\"name\":\"HSpacer03786\",\"sizing_mode\":\"stretch_width\"},\"id\":\"2626\",\"type\":\"Spacer\"},{\"attributes\":{},\"id\":\"2588\",\"type\":\"ResetTool\"},{\"attributes\":{\"factors\":[\"AdrActCnt\",\"PriceUSD\"],\"palette\":[\"blue\",\"red\"]},\"id\":\"2597\",\"type\":\"CategoricalColorMapper\"},{\"attributes\":{},\"id\":\"2578\",\"type\":\"CategoricalTicker\"},{\"attributes\":{},\"id\":\"2599\",\"type\":\"Selection\"},{\"attributes\":{},\"id\":\"2575\",\"type\":\"LinearScale\"}],\"root_ids\":[\"2563\"]},\"title\":\"Bokeh Application\",\"version\":\"2.2.3\"}};\n",
       "  var render_items = [{\"docid\":\"ace7ef5f-8ee5-4aba-97c8-158012aacd20\",\"root_ids\":[\"2563\"],\"roots\":{\"2563\":\"2c3d1ef1-d9e2-47b1-a4c1-54b1549b54d6\"}}];\n",
       "  root.Bokeh.embed.embed_items_notebook(docs_json, render_items);\n",
       "  }\n",
       "if (root.Bokeh !== undefined) {\n",
       "    embed_document(root);\n",
       "  } else {\n",
       "    var attempts = 0;\n",
       "    var timer = setInterval(function(root) {\n",
       "      if (root.Bokeh !== undefined) {\n",
       "        clearInterval(timer);\n",
       "        embed_document(root);\n",
       "      } else if (document.readyState == \"complete\") {\n",
       "        attempts++;\n",
       "        if (attempts > 100) {\n",
       "          clearInterval(timer);\n",
       "          console.log(\"Bokeh: ERROR: Unable to run BokehJS code because BokehJS library is missing\");\n",
       "        }\n",
       "      }\n",
       "    }, 10, root)\n",
       "  }\n",
       "})(window);</script>"
      ],
      "text/plain": [
       ":Bars   [yearmonth,Variable]   (value)"
      ]
     },
     "execution_count": 21,
     "metadata": {
      "application/vnd.holoviews_exec.v0+json": {
       "id": "2563"
      }
     },
     "output_type": "execute_result"
    }
   ],
   "source": [
    "before_and_after_new = before_and_after.iloc[7::,:]\n",
    "before_and_after_new.head()\n",
    "before_and_after_new.hvplot.bar(y=[\"AdrActCnt\",\"PriceUSD\"],\n",
    "                                rot=90,\n",
    "                                color=[\"blue\",\"red\"],\n",
    "                                height=600,width=1250,\n",
    "                                title=\"Bar Diagram of the Ethereum Price and Address Action Count\",\n",
    "                                xlabel=\"Year/MOnth\",ylabel=\"Price/Address Action Count\")"
   ]
  },
  {
   "cell_type": "code",
   "execution_count": 19,
   "metadata": {},
   "outputs": [
    {
     "data": {
      "application/vnd.holoviews_exec.v0+json": "",
      "text/html": [
       "<div id='2120'>\n",
       "\n",
       "\n",
       "\n",
       "\n",
       "\n",
       "  <div class=\"bk-root\" id=\"e47b23bb-b912-4f0e-8c3c-21b197996e68\" data-root-id=\"2120\"></div>\n",
       "</div>\n",
       "<script type=\"application/javascript\">(function(root) {\n",
       "  function embed_document(root) {\n",
       "  var docs_json = {\"02aba666-a364-42f4-9f92-011b1726ad16\":{\"roots\":{\"references\":[{\"attributes\":{\"align\":null,\"below\":[{\"id\":\"2134\"}],\"center\":[{\"id\":\"2136\"},{\"id\":\"2140\"}],\"left\":[{\"id\":\"2137\"}],\"margin\":null,\"min_border_bottom\":10,\"min_border_left\":10,\"min_border_right\":10,\"min_border_top\":10,\"plot_height\":300,\"plot_width\":700,\"renderers\":[{\"id\":\"2160\"}],\"sizing_mode\":\"fixed\",\"title\":{\"id\":\"2126\"},\"toolbar\":{\"id\":\"2147\"},\"toolbar_location\":null,\"x_range\":{\"id\":\"2122\"},\"x_scale\":{\"id\":\"2130\"},\"y_range\":{\"id\":\"2123\"},\"y_scale\":{\"id\":\"2132\"}},\"id\":\"2125\",\"subtype\":\"Figure\",\"type\":\"Plot\"},{\"attributes\":{\"source\":{\"id\":\"2198\"}},\"id\":\"2205\",\"type\":\"CDSView\"},{\"attributes\":{\"overlay\":{\"id\":\"2190\"}},\"id\":\"2188\",\"type\":\"BoxZoomTool\"},{\"attributes\":{\"bottom_units\":\"screen\",\"fill_alpha\":0.5,\"fill_color\":\"lightgrey\",\"left_units\":\"screen\",\"level\":\"overlay\",\"line_alpha\":1.0,\"line_color\":\"black\",\"line_dash\":[4,4],\"line_width\":2,\"right_units\":\"screen\",\"top_units\":\"screen\"},\"id\":\"2190\",\"type\":\"BoxAnnotation\"},{\"attributes\":{\"callback\":null,\"renderers\":[{\"id\":\"2204\"}],\"tags\":[\"hv_created\"],\"tooltips\":[[\"yearmonth\",\"@{yearmonth}\"],[\"PriceUSD\",\"@{PriceUSD}\"]]},\"id\":\"2168\",\"type\":\"HoverTool\"},{\"attributes\":{\"line_color\":\"blue\",\"line_width\":2,\"x\":{\"field\":\"yearmonth\"},\"y\":{\"field\":\"PriceUSD\"}},\"id\":\"2201\",\"type\":\"Line\"},{\"attributes\":{},\"id\":\"2189\",\"type\":\"ResetTool\"},{\"attributes\":{\"axis_label\":\"Address Action Count\",\"bounds\":\"auto\",\"formatter\":{\"id\":\"2164\"},\"major_label_orientation\":\"horizontal\",\"ticker\":{\"id\":\"2138\"}},\"id\":\"2137\",\"type\":\"LinearAxis\"},{\"attributes\":{\"end\":564527.65,\"reset_end\":564527.65,\"reset_start\":232545.85,\"start\":232545.85,\"tags\":[[[\"AdrActCnt\",\"AdrActCnt\",null]]]},\"id\":\"2123\",\"type\":\"Range1d\"},{\"attributes\":{},\"id\":\"2145\",\"type\":\"ResetTool\"},{\"attributes\":{\"line_alpha\":0.1,\"line_color\":\"blue\",\"line_width\":2,\"x\":{\"field\":\"yearmonth\"},\"y\":{\"field\":\"AdrActCnt\"}},\"id\":\"2158\",\"type\":\"Line\"},{\"attributes\":{\"overlay\":{\"id\":\"2146\"}},\"id\":\"2144\",\"type\":\"BoxZoomTool\"},{\"attributes\":{},\"id\":\"2185\",\"type\":\"SaveTool\"},{\"attributes\":{},\"id\":\"2142\",\"type\":\"PanTool\"},{\"attributes\":{},\"id\":\"2186\",\"type\":\"PanTool\"},{\"attributes\":{\"line_color\":\"blue\",\"line_width\":2,\"x\":{\"field\":\"yearmonth\"},\"y\":{\"field\":\"AdrActCnt\"}},\"id\":\"2157\",\"type\":\"Line\"},{\"attributes\":{},\"id\":\"2187\",\"type\":\"WheelZoomTool\"},{\"attributes\":{},\"id\":\"2164\",\"type\":\"BasicTickFormatter\"},{\"attributes\":{},\"id\":\"2141\",\"type\":\"SaveTool\"},{\"attributes\":{\"active_drag\":\"auto\",\"active_inspect\":\"auto\",\"active_multi\":null,\"active_scroll\":\"auto\",\"active_tap\":\"auto\",\"tools\":[{\"id\":\"2168\"},{\"id\":\"2185\"},{\"id\":\"2186\"},{\"id\":\"2187\"},{\"id\":\"2188\"},{\"id\":\"2189\"}]},\"id\":\"2191\",\"type\":\"Toolbar\"},{\"attributes\":{\"data_source\":{\"id\":\"2154\"},\"glyph\":{\"id\":\"2157\"},\"hover_glyph\":null,\"muted_glyph\":{\"id\":\"2159\"},\"nonselection_glyph\":{\"id\":\"2158\"},\"selection_glyph\":null,\"view\":{\"id\":\"2161\"}},\"id\":\"2160\",\"type\":\"GlyphRenderer\"},{\"attributes\":{},\"id\":\"2199\",\"type\":\"Selection\"},{\"attributes\":{},\"id\":\"2143\",\"type\":\"WheelZoomTool\"},{\"attributes\":{\"line_alpha\":0.2,\"line_color\":\"blue\",\"line_width\":2,\"x\":{\"field\":\"yearmonth\"},\"y\":{\"field\":\"AdrActCnt\"}},\"id\":\"2159\",\"type\":\"Line\"},{\"attributes\":{\"line_alpha\":0.1,\"line_color\":\"blue\",\"line_width\":2,\"x\":{\"field\":\"yearmonth\"},\"y\":{\"field\":\"PriceUSD\"}},\"id\":\"2202\",\"type\":\"Line\"},{\"attributes\":{\"active_drag\":\"auto\",\"active_inspect\":\"auto\",\"active_multi\":null,\"active_scroll\":\"auto\",\"active_tap\":\"auto\",\"tools\":[{\"id\":\"2124\"},{\"id\":\"2141\"},{\"id\":\"2142\"},{\"id\":\"2143\"},{\"id\":\"2144\"},{\"id\":\"2145\"}]},\"id\":\"2147\",\"type\":\"Toolbar\"},{\"attributes\":{\"text\":\"Ethereum Price Change 2019/08 - 2020/11\",\"text_color\":{\"value\":\"black\"},\"text_font_size\":{\"value\":\"12pt\"}},\"id\":\"2170\",\"type\":\"Title\"},{\"attributes\":{\"source\":{\"id\":\"2154\"}},\"id\":\"2161\",\"type\":\"CDSView\"},{\"attributes\":{},\"id\":\"2138\",\"type\":\"BasicTicker\"},{\"attributes\":{\"toolbar\":{\"id\":\"2229\"},\"toolbar_location\":\"above\"},\"id\":\"2230\",\"type\":\"ToolbarBox\"},{\"attributes\":{},\"id\":\"2132\",\"type\":\"LinearScale\"},{\"attributes\":{},\"id\":\"2174\",\"type\":\"CategoricalScale\"},{\"attributes\":{},\"id\":\"2216\",\"type\":\"UnionRenderers\"},{\"attributes\":{},\"id\":\"2179\",\"type\":\"CategoricalTicker\"},{\"attributes\":{},\"id\":\"2130\",\"type\":\"CategoricalScale\"},{\"attributes\":{\"end\":428.3103836270055,\"reset_end\":428.3103836270055,\"reset_start\":110.78686349880286,\"start\":110.78686349880286,\"tags\":[[[\"PriceUSD\",\"PriceUSD\",null]]]},\"id\":\"2167\",\"type\":\"Range1d\"},{\"attributes\":{\"children\":[[{\"id\":\"2125\"},0,0],[{\"id\":\"2169\"},0,1]]},\"id\":\"2228\",\"type\":\"GridBox\"},{\"attributes\":{\"axis\":{\"id\":\"2178\"},\"grid_line_color\":null,\"ticker\":null},\"id\":\"2180\",\"type\":\"Grid\"},{\"attributes\":{\"margin\":[5,5,5,5],\"name\":\"HSpacer03182\",\"sizing_mode\":\"stretch_width\"},\"id\":\"2376\",\"type\":\"Spacer\"},{\"attributes\":{\"text\":\"Ethereum Address Count 2019/08 - 2020/11\",\"text_color\":{\"value\":\"black\"},\"text_font_size\":{\"value\":\"12pt\"}},\"id\":\"2126\",\"type\":\"Title\"},{\"attributes\":{\"line_alpha\":0.2,\"line_color\":\"blue\",\"line_width\":2,\"x\":{\"field\":\"yearmonth\"},\"y\":{\"field\":\"PriceUSD\"}},\"id\":\"2203\",\"type\":\"Line\"},{\"attributes\":{},\"id\":\"2182\",\"type\":\"BasicTicker\"},{\"attributes\":{\"axis\":{\"id\":\"2137\"},\"dimension\":1,\"grid_line_color\":null,\"ticker\":null},\"id\":\"2140\",\"type\":\"Grid\"},{\"attributes\":{\"axis_label\":\"Price in USD\",\"bounds\":\"auto\",\"formatter\":{\"id\":\"2208\"},\"major_label_orientation\":\"horizontal\",\"ticker\":{\"id\":\"2182\"}},\"id\":\"2181\",\"type\":\"LinearAxis\"},{\"attributes\":{\"data\":{\"AdrActCnt\":{\"__ndarray__\":\"nXPOOcOsEkG8u7u712oRQRFCCCFUxBFBzczMzIzHEEFba621DhARQQAAAACYww9BsdzTCNNpE0EyxhhjDJEXQWZmZmYMFxdB55xzzjEHGEGamZmZCRocQWOMMcZQXx9BOuecc8aiH0GamZmZnRAbQVtrrbU6/B5BAAAAAD1iIEE=\",\"dtype\":\"float64\",\"order\":\"little\",\"shape\":[16]},\"yearmonth\":[\"2019-08\",\"2019-09\",\"2019-10\",\"2019-11\",\"2019-12\",\"2020-01\",\"2020-02\",\"2020-03\",\"2020-04\",\"2020-05\",\"2020-06\",\"2020-07\",\"2020-08\",\"2020-09\",\"2020-10\",\"2020-11\"]},\"selected\":{\"id\":\"2155\"},\"selection_policy\":{\"id\":\"2216\"}},\"id\":\"2154\",\"type\":\"ColumnDataSource\"},{\"attributes\":{},\"id\":\"2206\",\"type\":\"CategoricalTickFormatter\"},{\"attributes\":{\"data_source\":{\"id\":\"2198\"},\"glyph\":{\"id\":\"2201\"},\"hover_glyph\":null,\"muted_glyph\":{\"id\":\"2203\"},\"nonselection_glyph\":{\"id\":\"2202\"},\"selection_glyph\":null,\"view\":{\"id\":\"2205\"}},\"id\":\"2204\",\"type\":\"GlyphRenderer\"},{\"attributes\":{},\"id\":\"2176\",\"type\":\"LinearScale\"},{\"attributes\":{\"children\":[{\"id\":\"2121\"},{\"id\":\"2231\"},{\"id\":\"2376\"}],\"margin\":[0,0,0,0],\"name\":\"Row03177\",\"tags\":[\"embedded\"]},\"id\":\"2120\",\"type\":\"Row\"},{\"attributes\":{\"axis_label\":\"Year/Month\",\"bounds\":\"auto\",\"formatter\":{\"id\":\"2206\"},\"major_label_orientation\":1.5707963267948966,\"ticker\":{\"id\":\"2179\"}},\"id\":\"2178\",\"type\":\"CategoricalAxis\"},{\"attributes\":{\"bottom_units\":\"screen\",\"fill_alpha\":0.5,\"fill_color\":\"lightgrey\",\"left_units\":\"screen\",\"level\":\"overlay\",\"line_alpha\":1.0,\"line_color\":\"black\",\"line_dash\":[4,4],\"line_width\":2,\"right_units\":\"screen\",\"top_units\":\"screen\"},\"id\":\"2146\",\"type\":\"BoxAnnotation\"},{\"attributes\":{\"axis\":{\"id\":\"2181\"},\"dimension\":1,\"grid_line_color\":null,\"ticker\":null},\"id\":\"2184\",\"type\":\"Grid\"},{\"attributes\":{},\"id\":\"2162\",\"type\":\"CategoricalTickFormatter\"},{\"attributes\":{\"margin\":[5,5,5,5],\"name\":\"HSpacer03181\",\"sizing_mode\":\"stretch_width\"},\"id\":\"2121\",\"type\":\"Spacer\"},{\"attributes\":{\"callback\":null,\"renderers\":[{\"id\":\"2160\"}],\"tags\":[\"hv_created\"],\"tooltips\":[[\"yearmonth\",\"@{yearmonth}\"],[\"AdrActCnt\",\"@{AdrActCnt}\"]]},\"id\":\"2124\",\"type\":\"HoverTool\"},{\"attributes\":{},\"id\":\"2208\",\"type\":\"BasicTickFormatter\"},{\"attributes\":{},\"id\":\"2225\",\"type\":\"UnionRenderers\"},{\"attributes\":{\"factors\":[\"2019-08\",\"2019-09\",\"2019-10\",\"2019-11\",\"2019-12\",\"2020-01\",\"2020-02\",\"2020-03\",\"2020-04\",\"2020-05\",\"2020-06\",\"2020-07\",\"2020-08\",\"2020-09\",\"2020-10\",\"2020-11\"],\"tags\":[[[\"yearmonth\",\"yearmonth\",null]]]},\"id\":\"2122\",\"type\":\"FactorRange\"},{\"attributes\":{\"axis_label\":\"Year/Month\",\"bounds\":\"auto\",\"formatter\":{\"id\":\"2162\"},\"major_label_orientation\":1.5707963267948966,\"ticker\":{\"id\":\"2135\"}},\"id\":\"2134\",\"type\":\"CategoricalAxis\"},{\"attributes\":{\"align\":null,\"below\":[{\"id\":\"2178\"}],\"center\":[{\"id\":\"2180\"},{\"id\":\"2184\"}],\"left\":[{\"id\":\"2181\"}],\"margin\":null,\"min_border_bottom\":10,\"min_border_left\":10,\"min_border_right\":10,\"min_border_top\":10,\"plot_height\":300,\"plot_width\":700,\"renderers\":[{\"id\":\"2204\"}],\"sizing_mode\":\"fixed\",\"title\":{\"id\":\"2170\"},\"toolbar\":{\"id\":\"2191\"},\"toolbar_location\":null,\"x_range\":{\"id\":\"2122\"},\"x_scale\":{\"id\":\"2174\"},\"y_range\":{\"id\":\"2167\"},\"y_scale\":{\"id\":\"2176\"}},\"id\":\"2169\",\"subtype\":\"Figure\",\"type\":\"Plot\"},{\"attributes\":{},\"id\":\"2135\",\"type\":\"CategoricalTicker\"},{\"attributes\":{\"data\":{\"PriceUSD\":{\"__ndarray__\":\"uNFwPAbvaECHILwKNzhnQKtv1BxEU2ZA24YWNvWcZUCXnHe16CdhQKlajutyjmNA3uAhyh/mbUC6YHp1eQ1kQHefp7eQdGVAJZlwQm72aUBSMP5PJHttQLTMKAAiOnBAVsFE+JkdeUDQSfym+/52QE9QwfzAgXdAuLskZBSHeEA=\",\"dtype\":\"float64\",\"order\":\"little\",\"shape\":[16]},\"yearmonth\":[\"2019-08\",\"2019-09\",\"2019-10\",\"2019-11\",\"2019-12\",\"2020-01\",\"2020-02\",\"2020-03\",\"2020-04\",\"2020-05\",\"2020-06\",\"2020-07\",\"2020-08\",\"2020-09\",\"2020-10\",\"2020-11\"]},\"selected\":{\"id\":\"2199\"},\"selection_policy\":{\"id\":\"2225\"}},\"id\":\"2198\",\"type\":\"ColumnDataSource\"},{\"attributes\":{\"axis\":{\"id\":\"2134\"},\"grid_line_color\":null,\"ticker\":null},\"id\":\"2136\",\"type\":\"Grid\"},{\"attributes\":{\"toolbars\":[{\"id\":\"2147\"},{\"id\":\"2191\"}],\"tools\":[{\"id\":\"2124\"},{\"id\":\"2141\"},{\"id\":\"2142\"},{\"id\":\"2143\"},{\"id\":\"2144\"},{\"id\":\"2145\"},{\"id\":\"2168\"},{\"id\":\"2185\"},{\"id\":\"2186\"},{\"id\":\"2187\"},{\"id\":\"2188\"},{\"id\":\"2189\"}]},\"id\":\"2229\",\"type\":\"ProxyToolbar\"},{\"attributes\":{},\"id\":\"2155\",\"type\":\"Selection\"},{\"attributes\":{\"children\":[{\"id\":\"2230\"},{\"id\":\"2228\"}]},\"id\":\"2231\",\"type\":\"Column\"}],\"root_ids\":[\"2120\"]},\"title\":\"Bokeh Application\",\"version\":\"2.2.3\"}};\n",
       "  var render_items = [{\"docid\":\"02aba666-a364-42f4-9f92-011b1726ad16\",\"root_ids\":[\"2120\"],\"roots\":{\"2120\":\"e47b23bb-b912-4f0e-8c3c-21b197996e68\"}}];\n",
       "  root.Bokeh.embed.embed_items_notebook(docs_json, render_items);\n",
       "  }\n",
       "if (root.Bokeh !== undefined) {\n",
       "    embed_document(root);\n",
       "  } else {\n",
       "    var attempts = 0;\n",
       "    var timer = setInterval(function(root) {\n",
       "      if (root.Bokeh !== undefined) {\n",
       "        clearInterval(timer);\n",
       "        embed_document(root);\n",
       "      } else if (document.readyState == \"complete\") {\n",
       "        attempts++;\n",
       "        if (attempts > 100) {\n",
       "          clearInterval(timer);\n",
       "          console.log(\"Bokeh: ERROR: Unable to run BokehJS code because BokehJS library is missing\");\n",
       "        }\n",
       "      }\n",
       "    }, 10, root)\n",
       "  }\n",
       "})(window);</script>"
      ],
      "text/plain": [
       ":Layout\n",
       "   .Curve.I  :Curve   [yearmonth]   (AdrActCnt)\n",
       "   .Curve.II :Curve   [yearmonth]   (PriceUSD)"
      ]
     },
     "execution_count": 19,
     "metadata": {
      "application/vnd.holoviews_exec.v0+json": {
       "id": "2120"
      }
     },
     "output_type": "execute_result"
    }
   ],
   "source": [
    "adrcount = before_and_after_new.hvplot.line(x=\"yearmonth\",\n",
    "                                            y=\"AdrActCnt\",\n",
    "                                            rot=90,\n",
    "                                            color=[\"blue\",\"red\"],\n",
    "                                            title=\"Ethereum Address Count 2019/08 - 2020/11\",\n",
    "                                            xlabel = \"Year/Month\",ylabel = \"Address Action Count\")#,\n",
    "                                 #height=600,width=1250)\n",
    "pricecount = before_and_after_new.hvplot.line(x=\"yearmonth\",\n",
    "                                              y=\"PriceUSD\",\n",
    "                                              rot=90,\n",
    "                                              color=[\"blue\",\"red\"],\n",
    "                                              title=\"Ethereum Price Change 2019/08 - 2020/11\",\n",
    "                                              xlabel = \"Year/Month\",ylabel=\"Price in USD\")#,\n",
    "                                 #height=600,width=1250)\n",
    "adrcount + pricecount"
   ]
  },
  {
   "cell_type": "code",
   "execution_count": null,
   "metadata": {},
   "outputs": [],
   "source": []
  }
 ],
 "metadata": {
  "kernelspec": {
   "display_name": "Python [conda env:pyvizenv] *",
   "language": "python",
   "name": "conda-env-pyvizenv-py"
  },
  "language_info": {
   "codemirror_mode": {
    "name": "ipython",
    "version": 3
   },
   "file_extension": ".py",
   "mimetype": "text/x-python",
   "name": "python",
   "nbconvert_exporter": "python",
   "pygments_lexer": "ipython3",
   "version": "3.7.7"
  }
 },
 "nbformat": 4,
 "nbformat_minor": 4
}
